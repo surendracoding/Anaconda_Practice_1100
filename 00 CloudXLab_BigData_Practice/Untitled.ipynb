{
 "cells": [
  {
   "cell_type": "code",
   "execution_count": null,
   "metadata": {},
   "outputs": [],
   "source": [
    "# CloudXLab Videos Bigdata Practice #\n",
    "###############################################################\n",
    "###############################################################\n"
   ]
  },
  {
   "cell_type": "code",
   "execution_count": null,
   "metadata": {},
   "outputs": [],
   "source": []
  },
  {
   "cell_type": "code",
   "execution_count": null,
   "metadata": {},
   "outputs": [],
   "source": [
    "#Video3 ZooKeeper commands in CLI \n",
    "#3types of znodes: Persistant, Ephemeral, sequential znodes\n",
    "#start the zoopkeeper\n",
    ">>> zookeeper-client\n",
    "\n",
    "#listout the z-nodes\n",
    ">>> ls /path\n",
    "\n",
    "#get the data inside z-node\n",
    ">>> get /z_node_name_we_created\n",
    "\n",
    "#Setting or updateting\n",
    ">>> set /z_node_name_we_created {\"key\":\"value\"}\n",
    "\n",
    "#delete \n",
    ">>> rmr\n",
    "\n",
    "#\n",
    ">>>\n",
    "\n",
    "#\n",
    ">>>\n",
    "\n",
    "#\n",
    ">>>\n",
    "\n",
    "#\n",
    ">>>\n",
    "\n",
    "#\n",
    ">>>\n",
    "\n",
    "#\n",
    ">>>\n",
    "\n",
    "#\n",
    ">>>\n",
    "\n",
    "\n"
   ]
  }
 ],
 "metadata": {
  "kernelspec": {
   "display_name": "Python 3",
   "language": "python",
   "name": "python3"
  },
  "language_info": {
   "codemirror_mode": {
    "name": "ipython",
    "version": 3
   },
   "file_extension": ".py",
   "mimetype": "text/x-python",
   "name": "python",
   "nbconvert_exporter": "python",
   "pygments_lexer": "ipython3",
   "version": "3.7.1"
  }
 },
 "nbformat": 4,
 "nbformat_minor": 2
}
