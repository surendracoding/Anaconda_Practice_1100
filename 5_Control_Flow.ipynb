{
 "cells": [
  {
   "cell_type": "code",
   "execution_count": 6,
   "metadata": {
    "scrolled": true
   },
   "outputs": [
    {
     "name": "stdout",
     "output_type": "stream",
     "text": [
      "0-->>1-->>2-->>3-->>4-->>came out\n"
     ]
    }
   ],
   "source": [
    "#while\n",
    "x=0\n",
    "while (x<5):    \n",
    "    print(x,end=\"-->>\")\n",
    "    x+=1\n",
    "else: \n",
    "    print(\"came out\")"
   ]
  },
  {
   "cell_type": "code",
   "execution_count": 9,
   "metadata": {},
   "outputs": [
    {
     "name": "stdout",
     "output_type": "stream",
     "text": [
      "1 -->> 2 -->> 3 -->> 4 -->> "
     ]
    }
   ],
   "source": [
    "l=[1,2,3,4]\n",
    "t=(1,2,3,4)\n",
    "for i in t:\n",
    "    print(i, end=\" -->> \")"
   ]
  },
  {
   "cell_type": "code",
   "execution_count": 14,
   "metadata": {},
   "outputs": [
    {
     "name": "stdout",
     "output_type": "stream",
     "text": [
      "1 11\n",
      "2 22\n",
      "3 33\n",
      "4 44\n",
      "5 {111: 1111, 222: 2222}\n"
     ]
    }
   ],
   "source": [
    "d={1:11, 2:22, 3:33, 4:44, 5:{111:1111, 222:2222}}\n",
    "for i in d:\n",
    "    print(i, d[i])"
   ]
  },
  {
   "cell_type": "code",
   "execution_count": 17,
   "metadata": {},
   "outputs": [
    {
     "name": "stdout",
     "output_type": "stream",
     "text": [
      "1 -->>2 -->>3 -->>4 -->>5 -->>6 -->>"
     ]
    }
   ],
   "source": [
    "l=[1,2,3,4,5,6]\n",
    "for i in range (len(l)):\n",
    "    print(l[i], end=\" -->>\")"
   ]
  },
  {
   "cell_type": "code",
   "execution_count": 22,
   "metadata": {},
   "outputs": [
    {
     "name": "stdout",
     "output_type": "stream",
     "text": [
      "1 \n",
      "2 2 \n",
      "3 3 3 \n",
      "4 4 4 4 \n"
     ]
    }
   ],
   "source": [
    "#pyramid\n",
    "for i in range(1,5):\n",
    "    for j in range(i):\n",
    "        print(i, end=\" \")\n",
    "    print()"
   ]
  },
  {
   "cell_type": "code",
   "execution_count": 26,
   "metadata": {},
   "outputs": [
    {
     "name": "stdout",
     "output_type": "stream",
     "text": [
      "1\n",
      "3\n",
      "4\n",
      "5\n",
      "6\n"
     ]
    }
   ],
   "source": [
    "l=[1,2,3,4,5,6]\n",
    "for i in l:\n",
    "    if(i==2):\n",
    "        continue\n",
    "    else:\n",
    "        print(i)"
   ]
  },
  {
   "cell_type": "code",
   "execution_count": 27,
   "metadata": {},
   "outputs": [
    {
     "name": "stdout",
     "output_type": "stream",
     "text": [
      "1\n"
     ]
    }
   ],
   "source": [
    "l=[1,2,3,4,5,6]\n",
    "for i in l:\n",
    "    if(i==2):\n",
    "        break\n",
    "    else:\n",
    "        print(i)"
   ]
  },
  {
   "cell_type": "code",
   "execution_count": 28,
   "metadata": {},
   "outputs": [
    {
     "name": "stdout",
     "output_type": "stream",
     "text": [
      "1\n",
      "3\n",
      "4\n",
      "5\n",
      "6\n"
     ]
    }
   ],
   "source": [
    "l=[1,2,3,4,5,6]\n",
    "for i in l:\n",
    "    if(i==2):\n",
    "        pass\n",
    "    else:\n",
    "        print(i)"
   ]
  },
  {
   "cell_type": "code",
   "execution_count": 35,
   "metadata": {},
   "outputs": [
    {
     "name": "stdout",
     "output_type": "stream",
     "text": [
      "1\n",
      "2\n",
      "3\n",
      "4\n",
      "5\n",
      "6\n"
     ]
    }
   ],
   "source": [
    "l=[1,2,3,4,5,6]\n",
    "for i in range(len(l)):\n",
    "    print(l[i])\n",
    "    "
   ]
  },
  {
   "cell_type": "code",
   "execution_count": 1,
   "metadata": {},
   "outputs": [
    {
     "name": "stdout",
     "output_type": "stream",
     "text": [
      "0 0\n",
      "1 111\n",
      "2 222\n",
      "3 333\n",
      "4 444\n"
     ]
    }
   ],
   "source": [
    "#enumerate\n",
    "l=[000, 111, 222, 333, 444]\n",
    "for key, value in enumerate(l):\n",
    "    print(key, value)"
   ]
  },
  {
   "cell_type": "code",
   "execution_count": 18,
   "metadata": {},
   "outputs": [
    {
     "name": "stdout",
     "output_type": "stream",
     "text": [
      "My Name is Surendra\n",
      "My Class is Omega-2\n",
      "My Address is AndhraPradesh\n",
      "My Age is 25\n"
     ]
    }
   ],
   "source": [
    "#zip\n",
    "question=[\"Name\", \"Class\", \"Address\", \"Age\"]\n",
    "answer=[\"Surendra\", \"Omega-2\", \"AndhraPradesh\", 25]\n",
    "\n",
    "for x, y in zip(question, answer):\n",
    "    print(\"My {0} is {1}\".format(x,y))    "
   ]
  },
  {
   "cell_type": "code",
   "execution_count": 17,
   "metadata": {},
   "outputs": [
    {
     "name": "stdout",
     "output_type": "stream",
     "text": [
      "{0, 1, 2, 3, 4, 5, 6, 7, 8, 9}\n",
      "0-->1-->1-->2-->3-->3-->4-->5-->5-->6-->6-->7-->8-->9-->9-->\n",
      "[6, 7, 3, 9, 2, 0, 1, 5, 8, 4, 6, 3, 1, 5, 9]\n"
     ]
    }
   ],
   "source": [
    "#sorted(), set()\n",
    "l=[6,7,3,9,2,0,1,5,8,4,6,3,1,5,9]\n",
    "print(set(l))\n",
    "for i in sorted(l):\n",
    "    print(i, end=\"-->\")\n",
    "print()\n",
    "print(l)"
   ]
  },
  {
   "cell_type": "code",
   "execution_count": 21,
   "metadata": {},
   "outputs": [
    {
     "name": "stdout",
     "output_type": "stream",
     "text": [
      "9-->5-->1-->3-->6-->4-->8-->5-->1-->0-->2-->9-->3-->7-->6-->"
     ]
    }
   ],
   "source": [
    "#reversed\n",
    "l=[6,7,3,9,2,0,1,5,8,4,6,3,1,5,9]\n",
    "for i in reversed(l):\n",
    "    print(i, end=\"-->\")"
   ]
  },
  {
   "cell_type": "code",
   "execution_count": 23,
   "metadata": {},
   "outputs": [
    {
     "name": "stdout",
     "output_type": "stream",
     "text": [
      "61\n"
     ]
    }
   ],
   "source": [
    "#range(), xrange()\n",
    "import sys\n",
    "z=\"abcdefghijkl\"\n",
    "x=range(1,10)\n",
    "print(sys.getsizeof(z))"
   ]
  },
  {
   "cell_type": "code",
   "execution_count": 29,
   "metadata": {
    "scrolled": false
   },
   "outputs": [
    {
     "name": "stdout",
     "output_type": "stream",
     "text": [
      "1 \n",
      "2 3 \n",
      "4 5 6 \n",
      "7 8 9 10 \n",
      "11 12 13 14 15 \n"
     ]
    }
   ],
   "source": [
    "#pyramids, patterns\n",
    "def pat(n):\n",
    "    x=1;\n",
    "    for i in range(0,n):\n",
    "        for j in range(0, i+1):\n",
    "            print(x, end=\" \")\n",
    "            x=x+1\n",
    "        print()\n",
    "    \n",
    "\n",
    "pat(5)"
   ]
  },
  {
   "cell_type": "code",
   "execution_count": 13,
   "metadata": {},
   "outputs": [
    {
     "name": "stdout",
     "output_type": "stream",
     "text": [
      "True\n"
     ]
    }
   ],
   "source": [
    "print(10<20>5<40>35<50>25)"
   ]
  },
  {
   "cell_type": "code",
   "execution_count": 18,
   "metadata": {},
   "outputs": [
    {
     "name": "stdout",
     "output_type": "stream",
     "text": [
      "tHREE\n"
     ]
    }
   ],
   "source": [
    "#dictionary working as switch function\n",
    "def num_2_str(arg):\n",
    "    dictMap={\n",
    "        0:'zeRO',\n",
    "        1:\"ONE\",\n",
    "        2:\"TWO\",\n",
    "        3:\"tHREE\"\n",
    "    }\n",
    "    return dictMap.get(arg, \"N/A\")\n",
    "    \n",
    "if __name__ ==\"__main__\":\n",
    "    print(num_2_str(3))"
   ]
  },
  {
   "cell_type": "code",
   "execution_count": 19,
   "metadata": {
    "scrolled": false
   },
   "outputs": [
    {
     "name": "stdout",
     "output_type": "stream",
     "text": [
      "TATA\n",
      "FORD\n",
      "BENZ\n",
      "JEEP\n"
     ]
    }
   ],
   "source": [
    "car=[\"TATA\", \"FORD\", \"BENZ\", \"JEEP\"]\n",
    "i=0\n",
    "while(i<len(car)):\n",
    "    print(car[i])\n",
    "    i=i+1"
   ]
  },
  {
   "cell_type": "code",
   "execution_count": 21,
   "metadata": {},
   "outputs": [
    {
     "name": "stdout",
     "output_type": "stream",
     "text": [
      "0 TATA\n",
      "1 FORD\n",
      "2 BENZ\n",
      "3 JEEP\n"
     ]
    }
   ],
   "source": [
    "car=[\"TATA\", \"FORD\", \"BENZ\", \"JEEP\"]\n",
    "for i,x in enumerate(car):\n",
    "    print(i, x)"
   ]
  },
  {
   "cell_type": "code",
   "execution_count": 27,
   "metadata": {},
   "outputs": [
    {
     "name": "stdout",
     "output_type": "stream",
     "text": [
      "[0, 2, 6, 12, 20]\n",
      "[1, 3, 15, 105, 945]\n",
      "[0, 2, 4, 6, 8, 1, 3, 5, 7, 9, 10, 11, 12, 13]\n"
     ]
    }
   ],
   "source": [
    "#itertools, operator, accumulate\n",
    "import itertools, operator\n",
    "l1=[0,2,4,6,8]\n",
    "l2=[1,3,5,7,9]\n",
    "l3=[10,11,12,13]\n",
    "\n",
    "print(list(itertools.accumulate(l1)))\n",
    "print(list(itertools.accumulate(l2, operator.mul)))\n",
    "print(list(itertools.chain(l1, l2,l3)))\n",
    "\n"
   ]
  },
  {
   "cell_type": "code",
   "execution_count": 30,
   "metadata": {},
   "outputs": [
    {
     "name": "stdout",
     "output_type": "stream",
     "text": [
      "1\n",
      "6\n",
      "3\n"
     ]
    }
   ],
   "source": [
    "def func():\n",
    "    yield 1\n",
    "    yield 6\n",
    "    yield 3\n",
    "    \n",
    "for i in func():\n",
    "    print(i)"
   ]
  },
  {
   "cell_type": "code",
   "execution_count": null,
   "metadata": {},
   "outputs": [],
   "source": []
  },
  {
   "cell_type": "code",
   "execution_count": null,
   "metadata": {},
   "outputs": [],
   "source": []
  },
  {
   "cell_type": "code",
   "execution_count": null,
   "metadata": {},
   "outputs": [],
   "source": []
  },
  {
   "cell_type": "code",
   "execution_count": null,
   "metadata": {},
   "outputs": [],
   "source": []
  },
  {
   "cell_type": "code",
   "execution_count": null,
   "metadata": {},
   "outputs": [],
   "source": []
  }
 ],
 "metadata": {
  "kernelspec": {
   "display_name": "Python 3",
   "language": "python",
   "name": "python3"
  },
  "language_info": {
   "codemirror_mode": {
    "name": "ipython",
    "version": 3
   },
   "file_extension": ".py",
   "mimetype": "text/x-python",
   "name": "python",
   "nbconvert_exporter": "python",
   "pygments_lexer": "ipython3",
   "version": "3.7.1"
  }
 },
 "nbformat": 4,
 "nbformat_minor": 2
}
