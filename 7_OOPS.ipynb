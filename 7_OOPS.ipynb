{
 "cells": [
  {
   "cell_type": "code",
   "execution_count": 3,
   "metadata": {},
   "outputs": [
    {
     "name": "stdout",
     "output_type": "stream",
     "text": [
      "10\n",
      "surendra\n"
     ]
    }
   ],
   "source": [
    "#basics of class\n",
    "class Animal(object):\n",
    "    x=10\n",
    "    y=\"surendra\"\n",
    "\n",
    "def Main():\n",
    "    obj1=Animal()\n",
    "    print(obj1.x)\n",
    "    print(obj1.y)\n",
    "\n",
    "if __name__ ==\"__main__\":\n",
    "    Main()\n",
    "        "
   ]
  },
  {
   "cell_type": "code",
   "execution_count": 6,
   "metadata": {},
   "outputs": [
    {
     "name": "stdout",
     "output_type": "stream",
     "text": [
      "5 6\n"
     ]
    }
   ],
   "source": [
    "#BASICS OF METHODS\n",
    "class vector2D:\n",
    "    x=0.0\n",
    "    y=0.0\n",
    "    def set(self,x,y):\n",
    "        self.x=x\n",
    "        self.y=y\n",
    "\n",
    "def Main():\n",
    "    obj=vector2D()\n",
    "    obj.set(5,6)\n",
    "    print(obj.x, obj.y)\n",
    "    \n",
    "if __name__==\"__main__\":\n",
    "    Main()"
   ]
  },
  {
   "cell_type": "code",
   "execution_count": 16,
   "metadata": {},
   "outputs": [
    {
     "name": "stdout",
     "output_type": "stream",
     "text": [
      "True\n",
      "False\n",
      "True\n",
      "True\n"
     ]
    }
   ],
   "source": [
    "#Inheritance\n",
    "\n",
    "#parent class\n",
    "class Animal:\n",
    "    def __init__(self, name, sound):\n",
    "        self.name = name\n",
    "        self.sound =sound\n",
    "\n",
    "class Dog(Animal):\n",
    "    def __init__(self, name,sound):\n",
    "        super().__init__(name,sound)\n",
    "def Main():\n",
    "    obj1=Animal(\"Snoopy\",\"BowBow\")\n",
    "    obj2=Dog(\"PetDog\", \"PetSound\")\n",
    "    print(str(isinstance(obj1,Animal)))\n",
    "    print(str(isinstance(obj1,Dog)))\n",
    "    print(str(isinstance(obj2,Animal)))\n",
    "    print(str(isinstance(obj2,Dog)))\n",
    "if __name__ ==\"__main__\":\n",
    "    Main()\n",
    "        "
   ]
  },
  {
   "cell_type": "code",
   "execution_count": 5,
   "metadata": {},
   "outputs": [
    {
     "name": "stdout",
     "output_type": "stream",
     "text": [
      "Hiiiii surenda\n"
     ]
    }
   ],
   "source": [
    "#class, self\n",
    "class person:\n",
    "    def __init__(self, name):\n",
    "        self.name=name\n",
    "\n",
    "    def sayHi(self):\n",
    "        print(\"Hiiiii\", self.name)\n",
    "obj=person(\"surenda\")\n",
    "obj.sayHi()\n",
    "        "
   ]
  },
  {
   "cell_type": "code",
   "execution_count": 12,
   "metadata": {},
   "outputs": [
    {
     "name": "stdout",
     "output_type": "stream",
     "text": [
      "101  -->  Computer Science &Engg\n",
      "102  -->  Computer Science &Engg\n",
      "Computer Science &Engg\n"
     ]
    }
   ],
   "source": [
    "#instance variables, class variables\n",
    "class CSStudent:\n",
    "    branch=\"Computer Science &Engg\" #class variable\n",
    "    #constructor\n",
    "    def __init__(self, rollnum):\n",
    "        self.rollnum =rollnum # instance variable\n",
    "#object creation\n",
    "obj=CSStudent(101)\n",
    "print(obj.rollnum,\" --> \", obj.branch)\n",
    "obj=CSStudent(102)\n",
    "print(obj.rollnum,\" --> \", obj.branch)\n",
    "print(CSStudent.branch)#class variable can accessed by classname\n",
    "#print(CSStudent.rollnum)# instance variable cannot accessed by calssname#error\n",
    "    "
   ]
  },
  {
   "cell_type": "code",
   "execution_count": 14,
   "metadata": {},
   "outputs": [
    {
     "name": "stdout",
     "output_type": "stream",
     "text": [
      "101 Banglore\n"
     ]
    }
   ],
   "source": [
    "class CSStudent:\n",
    "    branch=\"CSE\"\n",
    "    def __init__(self, roll):\n",
    "        self.roll=roll\n",
    "    def setAdd(self, add):#normal method can contains instance variables\n",
    "        self.add=add\n",
    "obj=CSStudent(101)\n",
    "obj.setAdd(\"Banglore\")\n",
    "print(obj.roll, obj.add)"
   ]
  },
  {
   "cell_type": "code",
   "execution_count": 22,
   "metadata": {},
   "outputs": [
    {
     "name": "stdout",
     "output_type": "stream",
     "text": [
      "__hideval(avaible inside only not outside)= 3\n",
      "__hideval(avaible inside only not outside)= 8\n"
     ]
    }
   ],
   "source": [
    "#Data hiding Python, we use double underscore (__) before the attributes name and those attributes will not be directly visible outside.\n",
    "class h1:\n",
    "    __hideval=1\n",
    "    def add(self, increment):\n",
    "        self.increment=increment\n",
    "        self.__hideval+=increment\n",
    "        print(\"__hideval(avaible inside only not outside)=\",self.__hideval)\n",
    "obj=h1()\n",
    "obj.add(2)\n",
    "obj.add(5)\n",
    "        \n"
   ]
  },
  {
   "cell_type": "code",
   "execution_count": 27,
   "metadata": {},
   "outputs": [
    {
     "name": "stdout",
     "output_type": "stream",
     "text": [
      "10\n",
      "<__main__.j object at 0x000001E4E638B860>\n"
     ]
    }
   ],
   "source": [
    "class j:\n",
    "    __hide=10\n",
    "    x=5\n",
    "    y=40\n",
    "obj =j()\n",
    "print(obj._j__hide)#calling data hiding variables with tricky\n",
    "print(obj)\n"
   ]
  },
  {
   "cell_type": "code",
   "execution_count": 37,
   "metadata": {},
   "outputs": [
    {
     "name": "stdout",
     "output_type": "stream",
     "text": [
      "I'm __str__ a=10, b=20\n",
      "[a=10, b=20]\n"
     ]
    }
   ],
   "source": [
    "#printing objects using __str__   or   __repr__\n",
    "class h:\n",
    "    def __init__(self, x,y):\n",
    "        self.x=x\n",
    "        self.y=y\n",
    "    def __repr__(self):\n",
    "        return \"a=%s, b=%s\"%(self.x, self.y)\n",
    "    def __str__(self):\n",
    "        return \"I'm __str__ a=%s, b=%s\"%(self.x, self.y)\n",
    "    \n",
    "    \n",
    "obj=h(10,20)\n",
    "print(obj)\n",
    "print([obj])\n"
   ]
  },
  {
   "cell_type": "code",
   "execution_count": 9,
   "metadata": {},
   "outputs": [
    {
     "name": "stdout",
     "output_type": "stream",
     "text": [
      "TATA False\n",
      "Infosys True\n",
      "False\n",
      "True\n",
      "True\n",
      "True\n"
     ]
    }
   ],
   "source": [
    "#inheritance parent-child\n",
    "class person:\n",
    "    def __init__(self, name):\n",
    "        self.name= name\n",
    "    def getName(self):        \n",
    "        return self.name\n",
    "    def isEmployee(self):\n",
    "        return False\n",
    "\n",
    "#child\n",
    "class Employee(person):\n",
    "    def isEmployee(self):\n",
    "        return True\n",
    "\n",
    "#parent object    \n",
    "obj1=person(\"TATA\")\n",
    "print(obj1.getName(), obj1.isEmployee())\n",
    "\n",
    "#child object\n",
    "obj2=Employee(\"Infosys\")\n",
    "print(obj2.getName(), obj2.isEmployee())\n",
    "\n",
    "#issubclass(),\n",
    "print(issubclass(person,Employee))\n",
    "print(issubclass(Employee,person))\n",
    "\n",
    "#isinstance()\n",
    "print(isinstance(obj1, person))\n",
    "print(isinstance(obj2, person))"
   ]
  },
  {
   "cell_type": "code",
   "execution_count": 20,
   "metadata": {},
   "outputs": [
    {
     "name": "stdout",
     "output_type": "stream",
     "text": [
      "Base1 -class\n",
      "Base2 -class\n",
      "Child\n"
     ]
    },
    {
     "ename": "AttributeError",
     "evalue": "'child1' object has no attribute 'str1'",
     "output_type": "error",
     "traceback": [
      "\u001b[1;31m---------------------------------------------------------------------------\u001b[0m",
      "\u001b[1;31mAttributeError\u001b[0m                            Traceback (most recent call last)",
      "\u001b[1;32m<ipython-input-20-0e35df373925>\u001b[0m in \u001b[0;36m<module>\u001b[1;34m\u001b[0m\n\u001b[0;32m     20\u001b[0m \u001b[1;33m\u001b[0m\u001b[0m\n\u001b[0;32m     21\u001b[0m \u001b[0mobj1\u001b[0m\u001b[1;33m=\u001b[0m\u001b[0mchild1\u001b[0m\u001b[1;33m(\u001b[0m\u001b[1;33m)\u001b[0m\u001b[1;33m\u001b[0m\u001b[1;33m\u001b[0m\u001b[0m\n\u001b[1;32m---> 22\u001b[1;33m \u001b[0mobj1\u001b[0m\u001b[1;33m.\u001b[0m\u001b[0mprintme\u001b[0m\u001b[1;33m(\u001b[0m\u001b[1;33m)\u001b[0m\u001b[1;33m\u001b[0m\u001b[1;33m\u001b[0m\u001b[0m\n\u001b[0m\u001b[0;32m     23\u001b[0m \u001b[1;33m\u001b[0m\u001b[0m\n\u001b[0;32m     24\u001b[0m \u001b[1;33m\u001b[0m\u001b[0m\n",
      "\u001b[1;32m<ipython-input-20-0e35df373925>\u001b[0m in \u001b[0;36mprintme\u001b[1;34m(self)\u001b[0m\n\u001b[0;32m     16\u001b[0m \u001b[1;33m\u001b[0m\u001b[0m\n\u001b[0;32m     17\u001b[0m     \u001b[1;32mdef\u001b[0m \u001b[0mprintme\u001b[0m\u001b[1;33m(\u001b[0m\u001b[0mself\u001b[0m\u001b[1;33m)\u001b[0m\u001b[1;33m:\u001b[0m\u001b[1;33m\u001b[0m\u001b[1;33m\u001b[0m\u001b[0m\n\u001b[1;32m---> 18\u001b[1;33m         \u001b[0mprint\u001b[0m\u001b[1;33m(\u001b[0m\u001b[0mself\u001b[0m\u001b[1;33m.\u001b[0m\u001b[0mstr1\u001b[0m\u001b[1;33m,\u001b[0m\u001b[0mself\u001b[0m\u001b[1;33m.\u001b[0m\u001b[0mstr2\u001b[0m\u001b[1;33m)\u001b[0m\u001b[1;33m\u001b[0m\u001b[1;33m\u001b[0m\u001b[0m\n\u001b[0m\u001b[0;32m     19\u001b[0m \u001b[1;33m\u001b[0m\u001b[0m\n\u001b[0;32m     20\u001b[0m \u001b[1;33m\u001b[0m\u001b[0m\n",
      "\u001b[1;31mAttributeError\u001b[0m: 'child1' object has no attribute 'str1'"
     ]
    }
   ],
   "source": [
    "#multiple inheritance\n",
    "class Base1(object):\n",
    "    def __init__(self):\n",
    "        str1=\"Surendra\"\n",
    "        print(\"Base1 -class\")\n",
    "\n",
    "class Base2(object):\n",
    "    def __init__(self):\n",
    "        str2=\"Kumar\"\n",
    "        print(\"Base2 -class\")\n",
    "class child1(Base1, Base2):\n",
    "    def __init__(self):\n",
    "        Base1.__init__(self)\n",
    "        Base2.__init__(self)\n",
    "        print(\"Child\")\n",
    "        \n",
    "    def printme(self):\n",
    "        print(self.str1,self.str2)\n",
    "        \n",
    "        \n",
    "obj1=child1()\n",
    "obj1.printme()\n",
    "\n",
    "    "
   ]
  },
  {
   "cell_type": "code",
   "execution_count": 22,
   "metadata": {},
   "outputs": [
    {
     "name": "stdout",
     "output_type": "stream",
     "text": [
      "10 20\n"
     ]
    }
   ],
   "source": [
    "#access parent class attributes\n",
    "class college:\n",
    "    def __init__(self, x):\n",
    "        self.x=x\n",
    "class class1:\n",
    "    def __init__(self, x,y):\n",
    "        college.x=x    \n",
    "        self.y=y\n",
    "    def pri(self):\n",
    "        print(college.x, self.y)\n",
    "obj1=class1(10,20)\n",
    "obj1.pri()\n",
    "    "
   ]
  },
  {
   "cell_type": "code",
   "execution_count": 30,
   "metadata": {},
   "outputs": [
    {
     "name": "stdout",
     "output_type": "stream",
     "text": [
      "10 20\n"
     ]
    }
   ],
   "source": [
    "#access parent class attributes\n",
    "class college(object):\n",
    "    def __init__(self, x):\n",
    "        self.x=x\n",
    "class class1(college):\n",
    "    def __init__(self, x,y):\n",
    "        #college.x=x    \n",
    "        super().__init__(x)\n",
    "        \\\n",
    "        self.y=y\n",
    "    def pri(self):\n",
    "        print(self.x, self.y)\n",
    "obj1=class1(10,20)\n",
    "obj1.pri()\n",
    "    "
   ]
  },
  {
   "cell_type": "code",
   "execution_count": 2,
   "metadata": {},
   "outputs": [
    {
     "name": "stdout",
     "output_type": "stream",
     "text": [
      "10\n"
     ]
    }
   ],
   "source": [
    "\n",
    "def m1(x,y):\n",
    "    return x+y\n",
    "def m1(x,y,z):\n",
    "    return x+y+z\n",
    "def m1(x):\n",
    "    return x\n",
    "\n",
    "print(m1(10))\n"
   ]
  },
  {
   "cell_type": "code",
   "execution_count": 7,
   "metadata": {},
   "outputs": [
    {
     "name": "stdout",
     "output_type": "stream",
     "text": [
      "New Delhi is the capital of India.\n",
      "None\n",
      "New Delhi is the capital of India.\n",
      "None\n",
      "New Delhi is the capital of India.\n",
      "None\n",
      "Washington, D.C. is the capital of USA.\n",
      "None\n",
      "Washington, D.C. is the capital of USA.\n",
      "None\n",
      "Washington, D.C. is the capital of USA.\n",
      "None\n"
     ]
    }
   ],
   "source": [
    "#polymorphism\n",
    "class India(): \n",
    "    def capital(self): \n",
    "        print(\"New Delhi is the capital of India.\") \n",
    "  \n",
    "    def language(self): \n",
    "        print(\"Hindi the primary language of India.\") \n",
    "  \n",
    "    def type(self): \n",
    "        print(\"India is a developing country.\") \n",
    "  \n",
    "class USA(): \n",
    "    def capital(self): \n",
    "        print(\"Washington, D.C. is the capital of USA.\") \n",
    "  \n",
    "    def language(self): \n",
    "        print(\"English is the primary language of USA.\") \n",
    "  \n",
    "    def type(self): \n",
    "        print(\"USA is a developed country.\") \n",
    "  \n",
    "obj1=India()\n",
    "obj2=USA()\n",
    "for xxx in (obj1, obj2):\n",
    "    print(xxx.capital())\n",
    "    print(xxx.capital())\n",
    "    print(xxx.capital())"
   ]
  },
  {
   "cell_type": "code",
   "execution_count": 9,
   "metadata": {},
   "outputs": [
    {
     "name": "stdout",
     "output_type": "stream",
     "text": [
      "P-money\n",
      "P-marry\n",
      "C-money\n",
      "C-marry\n"
     ]
    }
   ],
   "source": [
    "#polymorphism\n",
    "class parent:\n",
    "    def money(self):\n",
    "        print(\"P-money\")\n",
    "    def marry(self):\n",
    "        print(\"P-marry\")\n",
    "        \n",
    "class child:\n",
    "    def money(self):\n",
    "        print(\"C-money\")\n",
    "    def marry(self):\n",
    "        print(\"C-marry\")\n",
    "        \n",
    "p1=parent()\n",
    "p1.money()\n",
    "p1.marry()\n",
    "c1=child()\n",
    "c1.money()\n",
    "c1.marry()"
   ]
  },
  {
   "cell_type": "code",
   "execution_count": 1,
   "metadata": {},
   "outputs": [
    {
     "name": "stdout",
     "output_type": "stream",
     "text": [
      "Anakonda\n"
     ]
    }
   ],
   "source": [
    "class animal:\n",
    "    name=\"\"\n",
    "    def __init__(self):\n",
    "        self.name=\"Anakonda\"\n",
    "\n",
    "    def print_name(self):\n",
    "        print(self.name)\n",
    "obj=animal()\n",
    "obj.print_name()"
   ]
  },
  {
   "cell_type": "code",
   "execution_count": 2,
   "metadata": {},
   "outputs": [
    {
     "name": "stdout",
     "output_type": "stream",
     "text": [
      "Anakonda\n",
      "Distructor has been called\n"
     ]
    }
   ],
   "source": [
    "#destroctor\n",
    "class animal:\n",
    "    name=\"\"\n",
    "    def __init__(self):\n",
    "        self.name=\"Anakonda\"\n",
    "\n",
    "    def print_name(self):\n",
    "        print(self.name)\n",
    "    \n",
    "    def __del__(self):\n",
    "        print(\"Distructor has been called\")\n",
    "obj=animal()\n",
    "obj.print_name()\n",
    "del obj"
   ]
  },
  {
   "cell_type": "code",
   "execution_count": 3,
   "metadata": {},
   "outputs": [
    {
     "name": "stdout",
     "output_type": "stream",
     "text": [
      "Hellllllllllooooo\n",
      "Geeeeeks4Geeeeeeks\n"
     ]
    }
   ],
   "source": [
    "#Timer object\n",
    "import threading\n",
    "def gfg():\n",
    "    print(\"Geeeeeks4Geeeeeeks\")\n",
    "\n",
    "xxx=threading.Timer(2.0, gfg)\n",
    "xxx.start()\n",
    "print(\"Hellllllllllooooo\")"
   ]
  },
  {
   "cell_type": "code",
   "execution_count": null,
   "metadata": {},
   "outputs": [],
   "source": []
  },
  {
   "cell_type": "code",
   "execution_count": null,
   "metadata": {},
   "outputs": [],
   "source": []
  },
  {
   "cell_type": "code",
   "execution_count": null,
   "metadata": {},
   "outputs": [],
   "source": []
  },
  {
   "cell_type": "code",
   "execution_count": null,
   "metadata": {},
   "outputs": [],
   "source": []
  },
  {
   "cell_type": "code",
   "execution_count": null,
   "metadata": {},
   "outputs": [],
   "source": []
  },
  {
   "cell_type": "code",
   "execution_count": null,
   "metadata": {},
   "outputs": [],
   "source": []
  },
  {
   "cell_type": "code",
   "execution_count": null,
   "metadata": {},
   "outputs": [],
   "source": []
  },
  {
   "cell_type": "code",
   "execution_count": null,
   "metadata": {},
   "outputs": [],
   "source": []
  }
 ],
 "metadata": {
  "kernelspec": {
   "display_name": "Python 3",
   "language": "python",
   "name": "python3"
  },
  "language_info": {
   "codemirror_mode": {
    "name": "ipython",
    "version": 3
   },
   "file_extension": ".py",
   "mimetype": "text/x-python",
   "name": "python",
   "nbconvert_exporter": "python",
   "pygments_lexer": "ipython3",
   "version": "3.7.1"
  }
 },
 "nbformat": 4,
 "nbformat_minor": 2
}
