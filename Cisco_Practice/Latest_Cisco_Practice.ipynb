{
 "cells": [
  {
   "cell_type": "code",
   "execution_count": 25,
   "metadata": {},
   "outputs": [
    {
     "ename": "UnicodeDecodeError",
     "evalue": "'charmap' codec can't decode byte 0x9d in position 46991: character maps to <undefined>",
     "output_type": "error",
     "traceback": [
      "\u001b[1;31m---------------------------------------------------------------------------\u001b[0m",
      "\u001b[1;31mUnicodeDecodeError\u001b[0m                        Traceback (most recent call last)",
      "\u001b[1;32m<ipython-input-25-b2d79e391328>\u001b[0m in \u001b[0;36m<module>\u001b[1;34m\u001b[0m\n\u001b[0;32m     33\u001b[0m         \u001b[1;31m#reading html files\u001b[0m\u001b[1;33m\u001b[0m\u001b[1;33m\u001b[0m\u001b[1;33m\u001b[0m\u001b[0m\n\u001b[0;32m     34\u001b[0m         \u001b[1;32mwith\u001b[0m \u001b[0mopen\u001b[0m\u001b[1;33m(\u001b[0m\u001b[0mf_name\u001b[0m\u001b[1;33m,\u001b[0m \u001b[1;34m'r'\u001b[0m\u001b[1;33m)\u001b[0m \u001b[1;32mas\u001b[0m \u001b[0mf\u001b[0m\u001b[1;33m:\u001b[0m\u001b[1;33m\u001b[0m\u001b[1;33m\u001b[0m\u001b[0m\n\u001b[1;32m---> 35\u001b[1;33m             \u001b[0mdata\u001b[0m \u001b[1;33m=\u001b[0m \u001b[0mf\u001b[0m\u001b[1;33m.\u001b[0m\u001b[0mread\u001b[0m\u001b[1;33m(\u001b[0m\u001b[1;33m)\u001b[0m\u001b[1;33m\u001b[0m\u001b[1;33m\u001b[0m\u001b[0m\n\u001b[0m\u001b[0;32m     36\u001b[0m         \u001b[1;31m#passing an HTML file as a string\u001b[0m\u001b[1;33m\u001b[0m\u001b[1;33m\u001b[0m\u001b[1;33m\u001b[0m\u001b[0m\n\u001b[0;32m     37\u001b[0m         \u001b[0mdata\u001b[0m\u001b[1;33m=\u001b[0m \u001b[0mstr\u001b[0m\u001b[1;33m(\u001b[0m\u001b[1;33m(\u001b[0m\u001b[0mlxml\u001b[0m\u001b[1;33m.\u001b[0m\u001b[0mhtml\u001b[0m\u001b[1;33m.\u001b[0m\u001b[0mtostring\u001b[0m\u001b[1;33m(\u001b[0m\u001b[0mcleaner\u001b[0m\u001b[1;33m.\u001b[0m\u001b[0mclean_html\u001b[0m\u001b[1;33m(\u001b[0m\u001b[0mlxml\u001b[0m\u001b[1;33m.\u001b[0m\u001b[0mhtml\u001b[0m\u001b[1;33m.\u001b[0m\u001b[0mparse\u001b[0m\u001b[1;33m(\u001b[0m\u001b[0mf_name\u001b[0m\u001b[1;33m)\u001b[0m\u001b[1;33m)\u001b[0m\u001b[1;33m)\u001b[0m\u001b[1;33m)\u001b[0m\u001b[1;33m)\u001b[0m\u001b[1;33m\u001b[0m\u001b[1;33m\u001b[0m\u001b[0m\n",
      "\u001b[1;32mC:\\ProgramData\\Anaconda3\\lib\\encodings\\cp1252.py\u001b[0m in \u001b[0;36mdecode\u001b[1;34m(self, input, final)\u001b[0m\n\u001b[0;32m     21\u001b[0m \u001b[1;32mclass\u001b[0m \u001b[0mIncrementalDecoder\u001b[0m\u001b[1;33m(\u001b[0m\u001b[0mcodecs\u001b[0m\u001b[1;33m.\u001b[0m\u001b[0mIncrementalDecoder\u001b[0m\u001b[1;33m)\u001b[0m\u001b[1;33m:\u001b[0m\u001b[1;33m\u001b[0m\u001b[1;33m\u001b[0m\u001b[0m\n\u001b[0;32m     22\u001b[0m     \u001b[1;32mdef\u001b[0m \u001b[0mdecode\u001b[0m\u001b[1;33m(\u001b[0m\u001b[0mself\u001b[0m\u001b[1;33m,\u001b[0m \u001b[0minput\u001b[0m\u001b[1;33m,\u001b[0m \u001b[0mfinal\u001b[0m\u001b[1;33m=\u001b[0m\u001b[1;32mFalse\u001b[0m\u001b[1;33m)\u001b[0m\u001b[1;33m:\u001b[0m\u001b[1;33m\u001b[0m\u001b[1;33m\u001b[0m\u001b[0m\n\u001b[1;32m---> 23\u001b[1;33m         \u001b[1;32mreturn\u001b[0m \u001b[0mcodecs\u001b[0m\u001b[1;33m.\u001b[0m\u001b[0mcharmap_decode\u001b[0m\u001b[1;33m(\u001b[0m\u001b[0minput\u001b[0m\u001b[1;33m,\u001b[0m\u001b[0mself\u001b[0m\u001b[1;33m.\u001b[0m\u001b[0merrors\u001b[0m\u001b[1;33m,\u001b[0m\u001b[0mdecoding_table\u001b[0m\u001b[1;33m)\u001b[0m\u001b[1;33m[\u001b[0m\u001b[1;36m0\u001b[0m\u001b[1;33m]\u001b[0m\u001b[1;33m\u001b[0m\u001b[1;33m\u001b[0m\u001b[0m\n\u001b[0m\u001b[0;32m     24\u001b[0m \u001b[1;33m\u001b[0m\u001b[0m\n\u001b[0;32m     25\u001b[0m \u001b[1;32mclass\u001b[0m \u001b[0mStreamWriter\u001b[0m\u001b[1;33m(\u001b[0m\u001b[0mCodec\u001b[0m\u001b[1;33m,\u001b[0m\u001b[0mcodecs\u001b[0m\u001b[1;33m.\u001b[0m\u001b[0mStreamWriter\u001b[0m\u001b[1;33m)\u001b[0m\u001b[1;33m:\u001b[0m\u001b[1;33m\u001b[0m\u001b[1;33m\u001b[0m\u001b[0m\n",
      "\u001b[1;31mUnicodeDecodeError\u001b[0m: 'charmap' codec can't decode byte 0x9d in position 46991: character maps to <undefined>"
     ]
    }
   ],
   "source": [
    "#Automation code for all html files to read html files and remove all HTML, Javascript syntax and remove unnecessary patterens and save them into txt formats. \n",
    "\"\"\"#Steps:\n",
    "    1). Importing required modules for cleaning data, to work with file system  (ex: OS, re, lxml)\n",
    "    2). Giving list of syntaxes we need clean (ex: HTML tags, javascript, CSS codes)\n",
    "    3). Automation code for reading all html files from given path and clean them and save them as txt format.\n",
    "    \n",
    "\"\"\"\n",
    "#Step1). throught OS module we can read files in a directory, re for regular expression\n",
    "import os\n",
    "import re\n",
    "import lxml #used for removing javascript syntax1\n",
    "from lxml.html.clean import Cleaner #used for removing javascript syntax1\n",
    "\n",
    "\n",
    "#Step2).#here we are giving individual styles and formats to remove from code\n",
    "cleaner = Cleaner()\n",
    "cleaner.scripts = True\n",
    "cleaner.meta = True\n",
    "cleaner.javascript = True # This is True because we want to activate the javascript filter\n",
    "cleaner.style = True      # This is True because we want to activate the styles & stylesheet filter\n",
    "cleaner.page_structure = True\n",
    "cleaner.remove_unknown_tags =True\n",
    "cleaner.links =False\n",
    "\n",
    "\n",
    "#Step3). Working with file system\n",
    "#print(os.getcwd()) #getting present working directory\n",
    "entries = os.listdir((os.getcwd())) # assigning list of files in a directory into list\n",
    "\n",
    "#filter html files and do cleaning then save them into txt files\n",
    "for f_name in entries:\n",
    "    if f_name.endswith('.html'):\n",
    "        #reading html files \n",
    "        with open(f_name, 'r') as f:\n",
    "            data = f.read()\n",
    "        #passing an HTML file as a string \n",
    "        data= str((lxml.html.tostring(cleaner.clean_html(lxml.html.parse(f_name)))))\n",
    "\n",
    "        #removing html tags\n",
    "        clean=re.compile('<.*?>')\n",
    "        text1=re.sub(clean, '', data)\n",
    "\n",
    "        #replacing \\n,\\t and some junk values with null\n",
    "        text2=re.sub(\"\\s+\", \" \",text1)\n",
    "        text3= text2.replace(r'\\n', '').replace(r'\\t','').replace(r'&#13','').replace(r\"\\'\",'').replace(r\"&#\",'').replace(r\";\",'').replace(r\". \",'.\\n').replace(r\"b'\",'').replace(r\"_\",'')    \n",
    "             \n",
    "        des=(os.path.splitext(os.path.basename(f_name))[0])+\".txt\"\n",
    "        with open(des, 'w') as f:    \n",
    "            f.write(text3)     "
   ]
  },
  {
   "cell_type": "code",
   "execution_count": 6,
   "metadata": {},
   "outputs": [],
   "source": []
  },
  {
   "cell_type": "markdown",
   "metadata": {},
   "source": [
    "# ruff"
   ]
  },
  {
   "cell_type": "code",
   "execution_count": 22,
   "metadata": {},
   "outputs": [],
   "source": [
    "#importing re for regular expression\n",
    "import re\n",
    "import lxml #used for removing javascript syntax1\n",
    "from lxml.html.clean import Cleaner #used for removing javascript syntax1\n",
    "\n",
    "#here we are giving individual styles and formats to remove from code\n",
    "cleaner = Cleaner()\n",
    "cleaner.scripts = True\n",
    "cleaner.meta = True\n",
    "cleaner.javascript = True # This is True because we want to activate the javascript filter\n",
    "cleaner.style = True      # This is True because we want to activate the styles & stylesheet filter\n",
    "cleaner.page_structure = True\n",
    "cleaner.remove_unknown_tags =True\n",
    "cleaner.links =True\n",
    "\n",
    "#passing an HTML file as a string \n",
    "data= str((lxml.html.tostring(cleaner.clean_html(lxml.html.parse('85.html')))))\n",
    "\n",
    "#removing html tags\n",
    "clean=re.compile('<.*?>')\n",
    "text1=re.sub(clean, '', data)\n",
    "\n",
    "#replacing /n with null\n",
    "text2=re.sub(\"\\s+\", \" \",text1)\n",
    "text3= text2.replace(r'\\n', '').replace(r'\\t','').replace(r'&#13','').replace(r\"\\'\",'').replace(r\"&#\",'').replace(r\";\",'').replace(r\". \",'.\\n')\n",
    "\n",
    "#writing back to text file\n",
    "with open(\"output.txt\", 'w') as f:\n",
    "    f.write(text3)\n",
    "    "
   ]
  },
  {
   "cell_type": "code",
   "execution_count": 68,
   "metadata": {},
   "outputs": [
    {
     "name": "stdout",
     "output_type": "stream",
     "text": [
      "\n",
      "Hello Cisco, How are you?\n",
      "The Testing Blog\n",
      "\n"
     ]
    }
   ],
   "source": [
    "#removing HTML tags\n",
    "import re\n",
    "text = \"\"\"\n",
    "<P><A class=\"navlink\" HREF=\"/film/soapbingo.html\">Hello Cisco, How are you?</A></P>\n",
    "<a class=\"navlink\" href=\"http://www.flakmag.com/features/splog/\">The Testing Blog</a><br>\n",
    "\"\"\"\n",
    "clean=re.compile('<.*?>')\n",
    "text1=re.sub(clean, '', text)\n",
    "print(text1)"
   ]
  },
  {
   "cell_type": "code",
   "execution_count": 16,
   "metadata": {},
   "outputs": [
    {
     "name": "stdout",
     "output_type": "stream",
     "text": [
      "hi\n"
     ]
    }
   ],
   "source": [
    "\"\"\"hello\"\"\"\n",
    "print(\"hi\")"
   ]
  },
  {
   "cell_type": "code",
   "execution_count": 11,
   "metadata": {},
   "outputs": [
    {
     "name": "stdout",
     "output_type": "stream",
     "text": [
      "Please can you strip me?\n",
      "I am waiting....\n",
      "\n",
      "\n"
     ]
    }
   ],
   "source": [
    "from bs4 import BeautifulSoup\n",
    "\n",
    "html_str = '''\n",
    "<td><a href=\"http://www.fakewebsite.com\">Please can you strip me?</a>\n",
    "<br/><a href=\"http://www.fakewebsite.com\">I am waiting....</a>\n",
    "</td>\n",
    "\n",
    "'''\n",
    "soup = BeautifulSoup(html_str)\n",
    "\n",
    "print(soup.get_text()) "
   ]
  },
  {
   "cell_type": "code",
   "execution_count": 7,
   "metadata": {
    "scrolled": true
   },
   "outputs": [
    {
     "name": "stdout",
     "output_type": "stream",
     "text": [
      "C:\\Users\\R101100\\Desktop\\AnacondaPractice\\Cisco_Practice\n",
      "<class 'list'>\n",
      ".ipynb_checkpoints\n",
      "60.html\n",
      "61.html\n",
      "input.txt.txt\n",
      "zzz_cisco_Practice.ipynb\n"
     ]
    }
   ],
   "source": [
    "import os\n",
    "print(os.getcwd())\n",
    "entries = os.listdir((os.getcwd()))\n",
    "#entries = os.listdir(\"C:\\\\Users\\\\R101100\\\\Desktop\\\\AnacondaPractice\")\n",
    "print(type(entries))\n",
    "for i in entries:\n",
    "    print(i, end='\\n')"
   ]
  },
  {
   "cell_type": "code",
   "execution_count": 25,
   "metadata": {},
   "outputs": [
    {
     "name": "stdout",
     "output_type": "stream",
     "text": [
      "C:\\Users\\R101100\\Desktop\\AnacondaPractice\\Cisco_Practice\n",
      "60.html\n",
      "61.html\n"
     ]
    }
   ],
   "source": [
    "\n",
    "import os\n",
    "print(os.getcwd())\n",
    "entries = os.listdir((os.getcwd()))\n",
    "\n",
    "for f_name in entries:\n",
    "    if f_name.endswith('.html'):\n",
    "        print(f_name)\n",
    "    "
   ]
  },
  {
   "cell_type": "code",
   "execution_count": 11,
   "metadata": {},
   "outputs": [
    {
     "name": "stdout",
     "output_type": "stream",
     "text": [
      "C:\\Users\\R101100\\Desktop\\AnacondaPractice\\Cisco_Practice\n"
     ]
    }
   ],
   "source": [
    "\n",
    "import os\n",
    "print(os.getcwd())\n",
    "entries = os.listdir((os.getcwd()))\n",
    "\n",
    "for f_name in entries:\n",
    "    if f_name.endswith('.html'):\n",
    "        with open(f_name, 'r') as f:\n",
    "            data = f.read()\n",
    "            \n",
    "            \n",
    "            \n",
    "            \n",
    "            \n",
    "            \n",
    "        des=(os.path.splitext(os.path.basename(f_name))[0])+\".txt\"\n",
    "        with open(des, 'w') as f:    \n",
    "            f.write(data)     "
   ]
  },
  {
   "cell_type": "code",
   "execution_count": 10,
   "metadata": {},
   "outputs": [
    {
     "name": "stdout",
     "output_type": "stream",
     "text": [
      "hemanth\n"
     ]
    }
   ],
   "source": [
    "import os\n",
    "print(os.path.splitext(os.path.basename(\"hemanth.txt\"))[0])"
   ]
  },
  {
   "cell_type": "code",
   "execution_count": null,
   "metadata": {},
   "outputs": [],
   "source": [
    "\n",
    "from BeautifulSoup import BeautifulSoup\n",
    "\n",
    "with open(\"60.html\", \"r\") as f:\n",
    "    soup = BeautifulSoup(f.read())\n",
    "\n",
    "for script in soup(\"script\"):\n",
    "    script.extract()\n",
    "\n",
    "with open(\"60_out.html\", \"w\") as f:\n",
    "    f.write(soup.prettify())"
   ]
  },
  {
   "cell_type": "code",
   "execution_count": 13,
   "metadata": {},
   "outputs": [],
   "source": [
    "with open('input.txt', 'r') as f:\n",
    "    data = f.read()\n",
    "    \n",
    "with open('output.txt', 'w') as f:    \n",
    "    f.write(data)"
   ]
  },
  {
   "cell_type": "code",
   "execution_count": null,
   "metadata": {},
   "outputs": [],
   "source": []
  },
  {
   "cell_type": "code",
   "execution_count": 83,
   "metadata": {},
   "outputs": [
    {
     "name": "stdout",
     "output_type": "stream",
     "text": [
      "WITHOUT JAVASCRIPT & STYLES\n"
     ]
    }
   ],
   "source": [
    "#1) Clean data\n",
    "import re\n",
    "import lxml\n",
    "from lxml.html.clean import Cleaner\n",
    "\n",
    "cleaner = Cleaner()\n",
    "cleaner.javascript = True # This is True because we want to activate the javascript filter\n",
    "cleaner.style = True      # This is True because we want to activate the styles & stylesheet filter\n",
    "cleaner.page_structure = True\n",
    "cleaner.remove_unknown_tags =True\n",
    "cleaner.links =False\n",
    "\n",
    "#print (\"WITH JAVASCRIPT & STYLES\")\n",
    "#print (lxml.html.tostring(lxml.html.parse('60.html')))\n",
    "print (\"WITHOUT JAVASCRIPT & STYLES\")\n",
    "#print (lxml.html.tostring(cleaner.clean_html(lxml.html.parse('60.html'))))\n",
    "data= str((lxml.html.tostring(cleaner.clean_html(lxml.html.parse('60.html')))))\n",
    "\n",
    "\n",
    "clean=re.compile('<.*?>')\n",
    "text1=re.sub(clean, '', data)\n",
    "#text2=re.sub(r'(<br(/?>|\\s[^<>]*>)\\s*\\n*)+', '\\n', text1)\n",
    "#text1.replace('\\n', '').replace('\\t','').replace('&#','')\n",
    "text2=re.sub(r\"\\s+\", \" \",text1)\n",
    "\n",
    "with open(\"output.txt\", 'w') as f:\n",
    "    f.write(text2)\n",
    "    \n",
    "with open('output.txt','r') as f1:\n",
    "    x = f1.read()\n",
    "#x.replace('\\n', '').replace('\\t','').replace('&#','')\n",
    "#x2=re.sub(r\"\\s+\", \" \",x)\n",
    "x=re.sub(r\"\\\\n+\", \" \",x)\n",
    "with open(\"output2.txt\", 'w') as f1:\n",
    "    f1.write(x)"
   ]
  },
  {
   "cell_type": "code",
   "execution_count": 89,
   "metadata": {},
   "outputs": [
    {
     "name": "stdout",
     "output_type": "stream",
     "text": [
      "b'\\n\\n\\n\\n\\n\\n\\nFlak Magazine: Review of Sunshine State, 8-9-02\\n\\n\\n\\n\\n\\n \\n\\n\\n\\n \\n \\n\\n\\n\\n\\n\\n\\n\\n\\n\\n\\n\\n\\n&#13;\\n\\n\\n\\n\\n\\n\\n\\n\\n\\n\\n\\n\\n\\n\\n\\n\\n\\n\\n\\n\\n\\n\\n\\n\\t\\n\\t\\n\\t\\n\\t\\n\\t\\nFILM\\n\\n\\t\\n\\t\\n\\t\\n\\t\\n\\t\\n\\t\\n\\t\\n\\t\\n\\t\\n\\t\\n\\n\\nArchives\\nSubmissions\\n2005 Also-Ran Awards: The Steak Knives\\n\\n2004 Oscar Dialogues\\n\\n2002 Oscars Roundtable\\n\\nIn Pursuit of Oscarness\\n\\nPopcorn Picnic\\nMulholland Drive audio commentary\\n\\n\\n\\t\\n\\t\\n\\t\\n\\t\\n\\t\\n\\n\\n\\t\\n\\n\\t\\n\\t\\n\\t\\n\\t\\n\\t\\nRECENTLY IN FILM\\n\\n\\t\\n\\t\\n\\t\\n\\t\\n\\t\\t\\n\\n\\n\\t\\n\\t\\n\\t\\n\\n\\t\\n\\t\\nVolverdir. Pedro Almod&#243;var\\n\\nFor Your Considerationdir. Christopher Guest\\n\\nCasino Royaledir. Martin Campbell\\n\\nBoratdir. Larry Charles\\n\\t\\nAll the King\\'s Mendir. Steve Zaillian\\n\\nSchool for Scoundrelsdir. Todd Phillips\\n\\t\\t\\nThe Black Dahliadir. Brian DePalma\\n\\nHollywoodlanddir. Allan Coulter\\n\\t\\nTalladega Nightsdir. Adam McKay\\n\\nSnakes on a Bingo Card\\n\\t\\n\\n\\n\\n\\nMore Film &#8250;\\n\\n\\t\\n\\t\\n\\t\\n\\t\\n\\t\\n\\n\\n\\n\\n\\n\\t\\t\\n\\n\\t\\n\\n\\t\\n\\t\\n\\t\\n\\t\\n\\t\\nABOUT FLAK\\n\\n\\t\\n\\t\\n\\t\\n\\t\\n\\t\\t\\n\\t\\n\\t\\n\\t\\n\\t\\n\\t\\n\\t\\nAbout Flak\\nArchives\\nLetters to Flak\\nSubmissions\\nRec Reading\\nRejected!\\n\\n\\n\\t\\n\\t\\n\\t\\n\\t\\n\\t\\n\\n\\n\\n\\n\\t\\n\\t\\n\\t\\n\\t\\n\\t\\nALSO BY FLAK\\n\\n\\t\\n\\t\\n\\t\\n\\t\\n\\t\\t\\n\\t\\n\\t\\n\\t\\n\\t\\n\\t\\n\\nFlak Sunday Comics\\n\\nThe Spam Blog\\n\\nThe Remote\\n\\nFlak Print [6mb PDF]\\n\\nFlak Daily Photo\\n\\n\\n\\n\\n\\n\\n\\n\\n\\n\\n\\n\\n\\n\\t\\n\\t\\n\\t\\n\\t\\n\\t\\n\\n\\n\\n\\n\\t&#13;\\n\\t&#13;\\n\\t&#13;\\n\\t&#13;\\n\\t&#13;\\nSEARCH FLAK&#13;\\n&#13;\\n\\t&#13;\\n\\t&#13;\\n\\t&#13;\\n\\t&#13;\\n&#13;\\n\\t&#13;\\n\\t&#13;\\n\\t&#13;\\n&#13;\\n&#13;\\nflakmag.comwww&#13;\\nPowered by&#13;\\nGoogle&#13;\\n\\t&#13;\\n\\t&#13;\\n\\t&#13;\\n\\n\\n\\n\\n\\t&#13;\\n\\t&#13;\\n\\t&#13;\\n\\t&#13;\\n\\t&#13;\\nMAILING LIST&#13;\\n&#13;\\n\\t&#13;\\n\\t&#13;\\n\\t&#13;\\n\\t&#13;\\n\\t\\t&#13;\\n\\t&#13;\\n\\t&#13;\\n\\t&#13;\\n\\t&#13;\\n\\t&#13;\\n&#13;\\nSign up for Flak\\'s weekly e-mail updates:&#13;\\n&#13;\\n&#13;\\n&#13;\\n Subscribe&#13;\\n Unsubscribe&#13;\\n&#13;\\n&#13;\\n\\t&#13;\\n&#13;\\n&#13;\\n\\t&#13;\\n&#13;\\n&#13;\\n&#13;\\n\\t&#13;\\n\\t&#13;\\n\\t&#13;\\n\\n\\n\\n\\n\\n\\n\\n\\n\\n\\n\\n\\n\\n\\n\\t\\n\\t\\n\\t\\n\\n\\n\\n\\n\\n\\n\\nSunshine State\\n\\ndir. John Sayles\\n\\nSony Pictures Classics\\n\\n\\n\\n\\nThe torching of a tacky float during \"Buccaneer \\nDays\" opens John Sayles\\' Sunshine \\nState. Pirates of all types abound in fictional \\nPlantation Island, Fla., a small town suffering its \\nconversion from a place of character and history into \\none of those upscale, pastel resorts you speed past on \\nI-95. The ensemble cast is split by the dividing line \\nof the movie\\'s primary concern: To sell out or not \\nsell out? As it\\'s Florida, there\\'s plenty of sun, sea \\nand palms, golfers in white slacks, weary locals in \\ndenims; and, as it\\'s John Sayles territory, our \\nsympathies are meant to fall wholly on the side of the \\ngrassroots townies.\\n\\nThe heart of the film is split between two daughters. \\nMarly Temple (Edie Falco) is the proprietor of a small \\nmotel; after getting dumped by her golf-pro \\nboyfriend, she couples up with a nicer example of one of \\nthe enemy, landscape architect Jack Meadows (Timothy \\nHutton). Marly longs to sell the motel her father (a \\ngrizzled, speechifying Ralph Waite) has pushed on her \\nas his personal dream to maintain. A former \"Weeki \\nWachee Mermaid,\" Marly exudes a knowing \\nworld-weariness, the threat of the encroaching \\ndevelopers awakening in her a desire for flight. By \\ncontrast, Desiree Perry (Angela Bassett) returns to \\nnext-town-over Lincoln Beach (based on the actual \\nAfrican-American community of American Beach, Fla., \\nfounded in 1935) to wrestle with a difficult mother \\nand finds herself staying to fight for the home from \\nwhich she was exiled years before. As in Sayles\\' \\nPassion Fish, two women, one immobilized and \\nwhite, the other itinerant and black, share the \\nemotional center of the film. The social ecosystem \\naround these women gradually reveals itself as a net \\nthat grips, either as a trap or as necessary support. \\n\\nIn weaving his morality play, Sayles has chosen sides \\nand doles out the vice and virtue in a \\nstraightforward, if simplistic, manner. Those on the \\nside of maintaining the old community have all the \\ndignity, pathos and deeply felt issues to be played \\nout; those who favor gentrification have all the \\nneuroses &#151; they are suicidal gambling addicts, \\nbitter former beauty queens, wounded semi-pro athletes \\nturned car salesmen, heartless local politicos, \\nclownish fat golfers, trailer park Civil War \\nreenactors.\\n\\nThe decks are stacked against these folks, \\nat times mere foils to Sayles\\' soapboxing. Francine \\nPickney (Mary Steenburgen) is the town\\'s Chamber of \\nCommerce queen bee, an \\narchetype dusted off from nearly every Robert Altman \\nfilm, married to troubled banker Earl Pickney (Gordon \\nClapp, the wimpy cop from \"NYPD Blue\"). Flash Philips \\n(Tom Wright) is the ex-linebacker (he skipped out long \\nago after getting a teenage Angela Bassett pregnant) \\nhired as front man for a car dealership, itself the \\nfront for some nameless, faceless corporate entity \\nbuying up all the homes in Lincoln Beach. Miguel \\nFerrer has a too-brief gem of a scene planning his \\nhard-sell strategy like a wartime general. Alan King \\nand Clifton James are two stogie-chomping golfers who \\neventually run out of green, playing ironic Greek \\nchorus to the proceedings (\"Nature! Who needs it?\") \\nThese are folks, Sayles tells us with the \\nsubtlety of tractors plowing through an ancient Indian \\ngraveyard, neither to be pitied nor trusted; they are, \\nin the end, comic relief.\\n\\nIn a similar dramatic cul de sac, Sayles shows the \\nsame love of loose ends he practiced in Limbo, by dealing us a \\nbig wooden red herring of a plot point. Acting teacher \\nDelia Temple, played by former NEA chairwoman Jane \\nAlexander, hires a pyromaniac teen to build her a \\ncoffin for her upcoming solo performance of Faulkner\\'s \\n\"As I Lay Dying.\" Beyond two minor scenes involving \\nthe construction and delivery of the coffin, nothing \\nelse ever comes of this (ever-unoccupied) box. This \\nall seems to be Sayles at his most didactic: Is he in \\nmourning for the NEA, paved over by the new anti-art \\nmorality? \\n\\nThe film\\'s strength is quieter than Sayles\\' politics, \\nwhich, despite his broad strokes, displays genuine, \\nadult interest in the demarcation of character \\n(refreshing in this summer of animated sci-fi \\nspectacles). People decide to sell out, love, forgive or remain entrenched in their need \\nto believe in the American dream; and their paths \\nshift, slightly yet deeply. Even the climax is a \\nminor, if momentous, affair: What halts the progress \\n(or destruction) is not the human endeavor on either \\nside of the battle, but the ghosts of the past. The \\ndead demand attention, and rising from their graves \\n(literally), they stop the major conflict of \\nSunshine State in its tracks.\\n\\nThe powerbrokers, the moneymen, the sharks in on the \\nmoney trail, all leave town when the tractors halt. \\nMen leave, Sayles seems to say; they are either \\nwalking out on women or paving over things. What\\'s \\nleft in the vacuum is the film\\'s true concern: the \\nwomen who have to clean things up. Sayles may be his \\nown best example of a male involved in his own drama \\nwhile a quieter, more human story resolves itself on \\nthe sidelines. This character-driven quality has \\nalways been in Sayles\\' films, and bringing together \\nsuch distinct concerns as presenting \\nbroad social canvas, as in Matewan, and telling \\nthe African-American\\'s story \\nundiluted, as in The Brother From Another Planet, \\nmakes Sunshine State his \\nmost comprehensive film to date. And he does it \\nquietly: The prodigal daughter who has returned is \\nable to stay, and the one who had been stuck at home \\nhas, like all true mermaids, returned to the sea.\\n\\n\\n&#151; Stephen Bracco (sbracco@yahoo.com)\\n\\n\\n\\n\\n\\n\\n\\n\\n\\t\\n\\t\\n\\t\\n\\n\\n\\n\\n\\n\\n\\n\\t\\n\\n\\n \\n\\t\\n\\t\\n\\t\\n\\t\\nRELATED LINKS\\n\\n\\t\\n\\t\\n\\t\\n\\t\\n\\t\\n\\t\\n\\t\\n\\t\\n\\t\\n\\t\\n\\n\\t\\t\\t\\nOfficial Site\\nIMDB entry\\nTrailer\\nFlak: Review of Limbo\\n\\n\\n\\t\\n\\t\\n\\t\\n\\t\\n\\t \\n\\n\\n\\n\\n \\n\\n \\n\\n\\n\\n&#160;\\n\\n\\n\\n\\n\\n\\n\\n\\n\\n\\n\\n\\n\\n\\n\\n\\n\\n\\n\\n\\n\\nAll materials copyright &#169; 1999-2006 by Flak Magazine\\n\\n\\n\\n\\n\\n\\n\\n\\n\\n\\n\\n\\n\\n\\n\\n\\n\\n\\n\\n'\n"
     ]
    }
   ],
   "source": [
    "with open('output.txt','r') as f1:\n",
    "    x = f1.read()\n",
    "\n",
    "#x.replace('\\n', '').replace('\\t','').replace('&#','')\n",
    "#x2=re.sub(r'(<br(/?>|\\s[^<>]*>)\\s*\\\\n*)+', '\\n', x)\n",
    "# x2=re.sub(r\"\\\\t+\", \"\",x)\n",
    "# x2=re.sub(r\"\\\\n+\", \"\",x)\n",
    "\n",
    "#x2=re.sub(r\"\\s+\", \" \",x)\n",
    "print(x2)\n",
    "with open(\"output2.txt\", 'w') as f1:\n",
    "    f1.write(x2)"
   ]
  },
  {
   "cell_type": "code",
   "execution_count": 42,
   "metadata": {},
   "outputs": [
    {
     "data": {
      "text/plain": [
       "\"b'\\n\\n\\n\\n\\n\\n\\nFlak Magazine: Review of  Sunshine State, 8-9-02\\n\\n\\n\\n\\n\\n \\n\\n\\n\\n \\n  \\n\\n\\n\\n\\n\\n\\n\\n\\n\\n\\n\\n\\n&#13;\\n\\n\\n\\n\\n\\n\\n\\n\\n\\n\\n\\n\\n\\n\\n\\n\\n\\n\\n\\n\\n\\n\\n\\n\\t\\n\\t\\n\\t\\n\\t\\n\\t\\nFILM\\n\\n\\t\\n\\t\\n\\t\\n\\t\\n\\t\\n\\t\\n\\t\\n\\t\\n\\t\\n\\t\\n\\n\\nArchives\\nSubmissions\\n2005 Also-Ran Awards: The Steak Knives\\n\\n2004 Oscar Dialogues\\n\\n2002 Oscars Roundtable\\n\\nIn Pursuit of Oscarness\\n\\nPopcorn Picnic\\nMulholland Drive audio commentary\\n\\n\\n\\t\\n\\t\\n\\t\\n\\t\\n\\t\\n\\n\\n\\t\\n\\n\\t\\n\\t\\n\\t\\n\\t\\n\\t\\nRECENTLY IN FILM\""
      ]
     },
     "execution_count": 42,
     "metadata": {},
     "output_type": "execute_result"
    }
   ],
   "source": [
    "\"\"\"b'\\n\\n\\n\\n\\n\\n\\nFlak Magazine: Review of  Sunshine State, 8-9-02\\n\\n\\n\\n\\n\\n \\n\\n\\n\\n \\n  \\n\\n\\n\\n\\n\\n\\n\\n\\n\\n\\n\\n\\n&#13;\\n\\n\\n\\n\\n\\n\\n\\n\\n\\n\\n\\n\\n\\n\\n\\n\\n\\n\\n\\n\\n\\n\\n\\n\\t\\n\\t\\n\\t\\n\\t\\n\\t\\nFILM\\n\\n\\t\\n\\t\\n\\t\\n\\t\\n\\t\\n\\t\\n\\t\\n\\t\\n\\t\\n\\t\\n\\n\\nArchives\\nSubmissions\\n2005 Also-Ran Awards: The Steak Knives\\n\\n2004 Oscar Dialogues\\n\\n2002 Oscars Roundtable\\n\\nIn Pursuit of Oscarness\\n\\nPopcorn Picnic\\nMulholland Drive audio commentary\\n\\n\\n\\t\\n\\t\\n\\t\\n\\t\\n\\t\\n\\n\\n\\t\\n\\n\\t\\n\\t\\n\\t\\n\\t\\n\\t\\nRECENTLY IN FILM\\n\\n\"\"\".strip('\\n')"
   ]
  },
  {
   "cell_type": "code",
   "execution_count": 44,
   "metadata": {},
   "outputs": [
    {
     "data": {
      "text/plain": [
       "\"b'Flak Magazine: Review of  Sunshine State, 8-9-02    13;FILMArchivesSubmissions2005 Also-Ran Awards: The Steak Knives2004 Oscar Dialogues2002 Oscars RoundtableIn Pursuit of OscarnessPopcorn PicnicMulholland Drive audio commentary\""
      ]
     },
     "execution_count": 44,
     "metadata": {},
     "output_type": "execute_result"
    }
   ],
   "source": [
    "\"\"\"b'\\n\\n\\n\\n\\n\\n\\nFlak Magazine: Review of  Sunshine State, 8-9-02\\n\\n\\n\\n\\n\\n \\n\\n\\n\\n \\n  \\n\\n\\n\\n\\n\\n\\n\\n\\n\\n\\n\\n\\n&#13;\\n\\n\\n\\n\\n\\n\\n\\n\\n\\n\\n\\n\\n\\n\\n\\n\\n\\n\\n\\n\\n\\n\\n\\n\\t\\n\\t\\n\\t\\n\\t\\n\\t\\nFILM\\n\\n\\t\\n\\t\\n\\t\\n\\t\\n\\t\\n\\t\\n\\t\\n\\t\\n\\t\\n\\t\\n\\n\\nArchives\\nSubmissions\\n2005 Also-Ran Awards: The Steak Knives\\n\\n2004 Oscar Dialogues\\n\\n2002 Oscars Roundtable\\n\\nIn Pursuit of Oscarness\\n\\nPopcorn Picnic\\nMulholland Drive audio commentary\"\"\".replace('\\n', '').replace('\\t','').replace('&#','')"
   ]
  },
  {
   "cell_type": "code",
   "execution_count": 47,
   "metadata": {},
   "outputs": [
    {
     "data": {
      "text/plain": [
       "'Mulholland Drive audio commentary'"
      ]
     },
     "execution_count": 47,
     "metadata": {},
     "output_type": "execute_result"
    }
   ],
   "source": [
    "\"\"\"\\nMulholland Drive audio commentary\"\"\".replace('\\n', '')"
   ]
  },
  {
   "cell_type": "code",
   "execution_count": 91,
   "metadata": {
    "scrolled": true
   },
   "outputs": [
    {
     "name": "stdout",
     "output_type": "stream",
     "text": [
      "I f ind T utorialspoint helpful\n"
     ]
    }
   ],
   "source": [
    "import re\n",
    "print( re.sub(r\"\\s+\", \" \", \"\"\"I f                ind\\n\\n\\n\\t\\n\\n\n",
    "T\\nutorialspoint helpful\"\"\"))"
   ]
  },
  {
   "cell_type": "code",
   "execution_count": 64,
   "metadata": {},
   "outputs": [
    {
     "data": {
      "text/plain": [
       "\"b'Flak Magazine: Review of Sunshine State, 8-9-02   13;FILMArchivesSubmissions2005 Also-Ran Awards: The Steak Knives2004 Oscar Dialogues2002 Oscars RoundtableIn Pursuit of OscarnessPopcorn PicnicMulholland Drive audio commentary\""
      ]
     },
     "execution_count": 64,
     "metadata": {},
     "output_type": "execute_result"
    }
   ],
   "source": [
    "x=\"\"\"b'\\n\\n\\n\\n\\n\\n\\nFlak Magazine: Review of Sunshine State, 8-9-02\\n\\n\\n\\n\\n\\n \\n\\n\\n\\n \\n \\n\\n\\n\\n\\n\\n\\n\\n\\n\\n\\n\\n\\n&#13;\\n\\n\\n\\n\\n\\n\\n\\n\\n\\n\\n\\n\\n\\n\\n\\n\\n\\n\\n\\n\\n\\n\\n\\n\\t\\n\\t\\n\\t\\n\\t\\n\\t\\nFILM\\n\\n\\t\\n\\t\\n\\t\\n\\t\\n\\t\\n\\t\\n\\t\\n\\t\\n\\t\\n\\t\\n\\n\\nArchives\\nSubmissions\\n2005 Also-Ran Awards: The Steak Knives\\n\\n2004 Oscar Dialogues\\n\\n2002 Oscars Roundtable\\n\\nIn Pursuit of Oscarness\\n\\nPopcorn Picnic\\nMulholland Drive audio commentary\\n\\n\\n\\t\\n\\t\\n\\t\\n\\t\\n\\t\\n\\n\\n\\t\\n\\n\\t\\n\\t\\n\\t\\n\\t\\n\\t\"\"\"\n",
    "x.replace('\\n', '').replace('\\t','').replace('&#','')"
   ]
  },
  {
   "cell_type": "code",
   "execution_count": 73,
   "metadata": {},
   "outputs": [
    {
     "name": "stdout",
     "output_type": "stream",
     "text": [
      "<generator object <genexpr> at 0x00000157DF4DF2A0>\n"
     ]
    }
   ],
   "source": []
  },
  {
   "cell_type": "code",
   "execution_count": null,
   "metadata": {},
   "outputs": [],
   "source": []
  }
 ],
 "metadata": {
  "kernelspec": {
   "display_name": "Python 3",
   "language": "python",
   "name": "python3"
  },
  "language_info": {
   "codemirror_mode": {
    "name": "ipython",
    "version": 3
   },
   "file_extension": ".py",
   "mimetype": "text/x-python",
   "name": "python",
   "nbconvert_exporter": "python",
   "pygments_lexer": "ipython3",
   "version": "3.7.1"
  }
 },
 "nbformat": 4,
 "nbformat_minor": 2
}
